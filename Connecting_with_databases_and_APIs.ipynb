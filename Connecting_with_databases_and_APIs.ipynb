{
  "nbformat": 4,
  "nbformat_minor": 0,
  "metadata": {
    "colab": {
      "provenance": []
    },
    "kernelspec": {
      "name": "python3",
      "display_name": "Python 3"
    },
    "language_info": {
      "name": "python"
    }
  },
  "cells": [
    {
      "cell_type": "markdown",
      "source": [
        "SQL ASSIGNMENT"
      ],
      "metadata": {
        "id": "4QwMXycKBvCO"
      }
    },
    {
      "cell_type": "markdown",
      "source": [
        "Q 1) What is a database? Differentiate between SQL and NoSQL databases."
      ],
      "metadata": {
        "id": "Ph5yqO-JBxZP"
      }
    },
    {
      "cell_type": "code",
      "execution_count": 3,
      "metadata": {
        "id": "Ssu48AC-Ba7b"
      },
      "outputs": [],
      "source": [
        "\"\"\"A database is a structured system that stores, organizes, and manages data, allowing users to retrieve, manipulate, and store\n",
        "information efficiently. It ensures data integrity, security, and consistency while enabling smooth interactions with large datasets.\n",
        "Databases are critical for applications in fields such as banking, e-commerce, healthcare, and social media.\n",
        "\n",
        "Differences Between SQL and NoSQL Databases:\n",
        "\n",
        "SQL databases use a relational model, where data is stored in tables with rows and columns. Relationships between tables are\n",
        "established through foreign keys.\n",
        "NoSQL databases, on the other hand, use various models such as key-value stores, document-based,\n",
        "column-family, and graph databases, allowing for more flexible, unstructured, or semi-structured data.\n",
        "\n",
        "SQL databases have a fixed, predefined schema that requires data to fit into the structure before insertion.\n",
        "NoSQL databases offer a dynamic schema, meaning they can accommodate different types of data and allow changes in\n",
        "structure as the application evolves.\n",
        "\n",
        "SQL databases ensure strong consistency and follow ACID (Atomicity, Consistency, Isolation, Durability)\n",
        "properties, making them ideal for transactional applications that need to maintain data integrity.\n",
        "NoSQL databases typically prioritize availability and partition tolerance (as per the CAP theorem) over consistency,\n",
        "often supporting eventual consistency rather than strict ACID compliance.\n",
        "\n",
        "SQL databases primarily use vertical scaling (scaling by increasing the hardware capabilities of a single server). In contrast,\n",
        "NoSQL databases use horizontal scaling (scaling by adding more servers or nodes), which makes it easier to manage large datasets\n",
        "and handle high traffic.\n",
        "\n",
        "SQL databases use SQL (Structured Query Language) for querying data, which is standardized and allows for complex queries\n",
        "involving joins, aggregation, and filtering.\n",
        "NoSQL databases lack a standardized query language, with each database using its\n",
        "own query language or API depending on the data model used.\n",
        "\n",
        "SQL databases are best suited for applications with structured data, complex relationships, and a need for complex\n",
        "querying, such as banking systems or enterprise applications.\n",
        "NoSQL databases excel at handling large, distributed, or unstructured data, especially when the data schema\n",
        "is flexible or changes frequently, making them ideal for real-time analytics, social media platforms, and IoT systems.\n",
        "\n",
        "Examples of SQL databases include MySQL, PostgreSQL, Oracle, and Microsoft SQL Server. Examples of NoSQL databases\n",
        "include MongoDB (document store), Cassandra (column-family store), Redis (key-value store), and Neo4j (graph database).\n",
        "\"\"\"\n",
        "a=1"
      ]
    },
    {
      "cell_type": "markdown",
      "source": [],
      "metadata": {
        "id": "WrSpMto4BpkO"
      }
    },
    {
      "cell_type": "markdown",
      "source": [
        "Q2. What is DDL? Explain why CREATE, DROP, ALTER, and TRUNCATE are used with an example."
      ],
      "metadata": {
        "id": "nFlNUUu1CwQm"
      }
    },
    {
      "cell_type": "code",
      "source": [
        "\"\"\"\n",
        "\n",
        "DDL stands for Data Definition Language. It refers to a set of SQL commands used to define and manage\n",
        "the structure of database objects like tables, schemas, and indexes. DDL commands deal with the schema and organization of the data\n",
        "in the database, rather than the data itself. These commands allow you to create, modify, and remove database structures,\n",
        "ensuring that the database's architecture aligns with the requirements of the system.\n",
        "\n",
        "CREATE:\n",
        "\n",
        "The CREATE command is used to create new database objects such as tables, views, indexes, and databases.\n",
        "It defines the structure of the database object, including the columns and their data types for a table.\n",
        "Example:(sql)\n",
        "CREATE TABLE employees (\n",
        "    id INT PRIMARY KEY,\n",
        "    name VARCHAR(50),\n",
        "    age INT,\n",
        "    salary DECIMAL(10, 2)\n",
        ");\n",
        "This command creates a table named employees with four columns: id, name, age, and salary.\n",
        "\n",
        "\n",
        "DROP:\n",
        "The DROP command is used to delete an existing database object. This command permanently\n",
        "removes the table, database, or other objects and all of its data.\n",
        "Once a table is dropped, it cannot be recovered unless a backup exists.\n",
        "Example:\n",
        "(sql)\n",
        "DROP TABLE employees;\n",
        "This command removes the employees table from the database, including all the data it contains.\n",
        "\n",
        "ALTER:\n",
        "The ALTER command is used to modify the structure of an existing database object, such as adding, deleting, or modifying columns in a table.\n",
        "It allows for changes in the schema without removing the object or its data.\n",
        "Example:\n",
        "(sql)\n",
        "ALTER TABLE employees ADD email VARCHAR(100);\n",
        "This command adds a new column email to the employees table.\n",
        "\n",
        "TRUNCATE:\n",
        "The TRUNCATE command is used to remove all records from a table, but it does not remove the table\n",
        " structure itself. The table remains in the database but becomes empty.\n",
        "TRUNCATE is faster than DELETE because it does not log individual row deletions and does not fire triggers.\n",
        "Example:\n",
        "(sql)\n",
        "TRUNCATE TABLE employees;\n",
        "This command removes all rows from the employees table, but the table itself\n",
        "remains in the database and can still be used for future data insertion.\n",
        "\"\"\"\n",
        "a=1"
      ],
      "metadata": {
        "id": "UVjVo-SIBs-I"
      },
      "execution_count": 4,
      "outputs": []
    },
    {
      "cell_type": "markdown",
      "source": [
        "Q3. What is DML? Explain INSERT, UPDATE, and DELETE with an example."
      ],
      "metadata": {
        "id": "yuae3frSELZJ"
      }
    },
    {
      "cell_type": "code",
      "source": [
        "\"\"\"\n",
        "DML stands for Data Manipulation Language. It refers to the set of SQL commands used to\n",
        "manage and manipulate data within the database. Unlike DDL (Data Definition Language), which\n",
        "deals with the structure of the database, DML focuses on the data stored in the database. DML\n",
        "commands are used to insert, update, delete, and retrieve data from tables. These commands help\n",
        "in managing the actual content (records or rows) in the database.\n",
        "\n",
        "DML Commands: INSERT, UPDATE, DELETE\n",
        "\n",
        "INSERT:\n",
        "The INSERT command is used to add new records (rows) into a table.\n",
        "You can insert a single record or multiple records at once.\n",
        "\n",
        "Example:\n",
        "(sql)\n",
        "INSERT INTO employees (id, name, age, salary)\n",
        "VALUES (1, 'John Doe', 30, 50000.00);\n",
        "\n",
        "This command inserts a new record into the employees table with the following values:\n",
        "id: 1\n",
        "name: 'John Doe'\n",
        "age: 30\n",
        "salary: 50000.00\n",
        "\n",
        "You can also insert multiple records in a single statement:(sql)\n",
        "INSERT INTO employees (id, name, age, salary)\n",
        "VALUES (2, 'Jane Smith', 28, 60000.00), (3, 'Alice Brown', 35, 75000.00);\n",
        "\n",
        "UPDATE:\n",
        "The UPDATE command is used to modify existing records in a table. You can update one or more columns of a\n",
        "specific record (or records) that meet a certain condition.\n",
        "It is essential to include a WHERE clause to specify which records you want to update. If you do not include\n",
        "a WHERE clause, all records in the table will be updated.\n",
        "\n",
        "Example:(sql)\n",
        "\n",
        "UPDATE employees\n",
        "SET salary = 55000.00\n",
        "WHERE id = 1;\n",
        "This command updates the salary of the employee with id 1 to 55000.00.\n",
        "\n",
        "You can also update multiple records at once:(sql)\n",
        "UPDATE employees\n",
        "SET salary = salary + 1000\n",
        "WHERE age > 30;\n",
        "This command increases the salary by 1000 for all employees whose age is greater than 30.\n",
        "\n",
        "DELETE:\n",
        "The DELETE command is used to remove records from a table. Like UPDATE, it is crucial to use a\n",
        "WHERE clause to specify which records to delete. If no WHERE clause is provided, all records in the table will be deleted.\n",
        "\n",
        "Example:(sql)\n",
        "DELETE FROM employees\n",
        "WHERE id = 2;\n",
        "This command deletes the record from the employees table where the id is 2.\n",
        "\n",
        "You can also delete multiple records at once:(sql)\n",
        "DELETE FROM employees\n",
        "WHERE age < 30;\n",
        "This command deletes all employees whose age is less than 30.\n",
        "\"\"\"\n",
        "a=2"
      ],
      "metadata": {
        "id": "hiiEFjv4EItH"
      },
      "execution_count": 5,
      "outputs": []
    },
    {
      "cell_type": "markdown",
      "source": [
        "Q4. What is DQL? Explain SELECT with an example."
      ],
      "metadata": {
        "id": "1wz-9w5YE68S"
      }
    },
    {
      "cell_type": "code",
      "source": [
        "\"\"\"\n",
        "DQL stands for Data Query Language. It is a subset of SQL (Structured Query Language) used to\n",
        "query or retrieve data from a database. The primary purpose of DQL is to allow users to fetch data from tables\n",
        "in a database. DQL consists mainly of the SELECT statement, which is used to retrieve one or more rows of data from\n",
        "a table based on specified conditions.\n",
        "\n",
        "The SELECT Statement:\n",
        "The SELECT statement is the most commonly used SQL command in DQL. It allows you to query\n",
        "a database and retrieve data based on various criteria. You can specify which columns to retrieve, filter\n",
        " the data using conditions, sort it, and even perform calculations.\n",
        "\n",
        "The SELECT statement is used to retrieve data from a database. A simple SELECT query is used to fetch all the rows and columns from a table without any filtering or sorting.\n",
        "\n",
        "Syntax:(sql)\n",
        "SELECT * FROM table_name;\n",
        "*: This represents all columns in the table.\n",
        "\n",
        "Example:\n",
        "Assume we have a table named employees with the following data:\n",
        "\n",
        "id\tname\tage\tsalary\n",
        "1\tJohn Doe\t30\t50000\n",
        "2\tJane Smith\t28\t60000\n",
        "3\tAlice Brown\t35\t75000\n",
        "4\tBob White\t40\t65000\n",
        "\"\"\"\n",
        "a=4"
      ],
      "metadata": {
        "id": "GI6ewQOxE4w_"
      },
      "execution_count": 6,
      "outputs": []
    },
    {
      "cell_type": "markdown",
      "source": [
        "Q5. Explain Primary Key and Foreign Key."
      ],
      "metadata": {
        "id": "pEM797W5Fsdi"
      }
    },
    {
      "cell_type": "code",
      "source": [
        "\"\"\"\n",
        "Primary Key:\n",
        "A Primary Key is a column or a combination of columns in a table that uniquely identifies\n",
        "each row in that table. It ensures that each record in the table is unique and prevents\n",
        " duplicate records. A primary key must satisfy two important conditions:\n",
        "Uniqueness: Each value in the primary key column(s) must be unique for each record in the table.\n",
        "Not Null: A primary key column cannot contain NULL values. Every record must have a valid value for the primary key.\n",
        "In most cases, primary keys are used to establish relationships between tables, ensuring data integrity.\n",
        "\n",
        "Foreign Key:\n",
        "A Foreign Key is a column (or a combination of columns) in one table that refers\n",
        "to the primary key column(s) in another table. A foreign key establishes a link between\n",
        "two tables, ensuring referential integrity. It helps maintain consistency by ensuring\n",
        "that values in the foreign key column match valid values in the primary key column\n",
        "of the related table.\n",
        "\n",
        "The foreign key can accept NULL values unless otherwise restricted. It doesn't need\n",
        "to be unique, and multiple rows in the referencing table can have the same\n",
        "foreign key value.\n",
        "\"\"\"\n",
        "a=5"
      ],
      "metadata": {
        "id": "KFx11_EdFrIP"
      },
      "execution_count": 7,
      "outputs": []
    },
    {
      "cell_type": "markdown",
      "source": [
        "Q6. Write a python code to connect MySQL to python. Explain the cursor() and execute() method."
      ],
      "metadata": {
        "id": "wd1Z0E74GIBM"
      }
    },
    {
      "cell_type": "code",
      "source": [
        "\"\"\"\n",
        "cursor() Method:\n",
        "\n",
        "The cursor() method creates a cursor object, which is a pointer used to interact with the MySQL database.\n",
        "This cursor is needed to execute SQL queries and fetch results. It acts as an intermediary between the Python program and the database.\n",
        "With the cursor object, you can execute queries, fetch data, and manage database operations.\n",
        "\n",
        "execute() Method:\n",
        "\n",
        "The execute() method is used to run a SQL query on the database. It accepts a string containing the SQL query and executes it.\n",
        "The query can be a SELECT, INSERT, UPDATE, DELETE, or any other valid SQL statement.\n",
        "\"\"\"\n",
        "\n",
        "# Python code to connect MySQL to python:\n",
        "\n",
        "\"\"\"\n",
        "import mysql.connector\n",
        "\n",
        "mydb = mysql.connector.connect(\n",
        "    host=\"localhost\",\n",
        "    user=\"root\",\n",
        "    password=\"root\"\n",
        ")\n",
        "\n",
        "mydb.close()\n",
        "\n",
        "\"\"\"\n",
        "\n",
        "a=6"
      ],
      "metadata": {
        "id": "dN_lmCihGHCu"
      },
      "execution_count": 8,
      "outputs": []
    },
    {
      "cell_type": "markdown",
      "source": [
        "Q7. Give the order of execution of SQL clauses in an SQL query."
      ],
      "metadata": {
        "id": "oGCI-r-pHMHN"
      }
    },
    {
      "cell_type": "code",
      "source": [
        "\"\"\"\n",
        "Order of Execution of SQL Clauses in an SQL Query:\n",
        "In SQL, the clauses in a query are written in a specific order, but they are\n",
        "executed in a different order. Here is the correct order of execution of SQL clauses:\n",
        "\n",
        "FROM:\n",
        "First, the FROM clause is processed. It identifies the tables or views from\n",
        "which the data will be fetched.\n",
        "\n",
        "JOIN:\n",
        "If there are any JOIN operations, they are executed after the FROM clause. This is\n",
        "where multiple tables are combined based on a specified condition.\n",
        "\n",
        "WHERE:\n",
        "The WHERE clause is executed next to filter the rows from the tables, based\n",
        "on the condition specified.\n",
        "\n",
        "GROUP BY:\n",
        "If there is a GROUP BY clause, it groups the rows that share the same values into\n",
        "summary rows, like \"total\" or \"average\", according to the column(s) specified.\n",
        "\n",
        "HAVING:\n",
        "The HAVING clause is executed after GROUP BY. It filters the groups formed by\n",
        "GROUP BY based on a condition.\n",
        "\n",
        "SELECT:\n",
        "The SELECT clause is executed after the data is grouped and filtered. This is\n",
        "where you specify the columns to be returned in the result set.\n",
        "\n",
        "DISTINCT:\n",
        "If the DISTINCT keyword is used, duplicates are removed from the result set after\n",
        " the selection of columns.\n",
        "\n",
        "ORDER BY:\n",
        "After all the filtering and selection of columns, the ORDER BY clause sorts the\n",
        "result set in the specified order (ascending or descending).\n",
        "\"\"\"\n",
        "a=7"
      ],
      "metadata": {
        "id": "VnxkbzHxHLDV"
      },
      "execution_count": 9,
      "outputs": []
    },
    {
      "cell_type": "code",
      "source": [],
      "metadata": {
        "id": "QIBBNy-rHr7E"
      },
      "execution_count": null,
      "outputs": []
    }
  ]
}